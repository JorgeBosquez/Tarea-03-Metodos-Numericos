{
  "nbformat": 4,
  "nbformat_minor": 0,
  "metadata": {
    "colab": {
      "provenance": [],
      "toc_visible": true,
      "authorship_tag": "ABX9TyMrIonrIbRcrfk6fRo5+wcF",
      "include_colab_link": true
    },
    "kernelspec": {
      "name": "python3",
      "display_name": "Python 3"
    },
    "language_info": {
      "name": "python"
    }
  },
  "cells": [
    {
      "cell_type": "markdown",
      "metadata": {
        "id": "view-in-github",
        "colab_type": "text"
      },
      "source": [
        "<a href=\"https://colab.research.google.com/github/JorgeBosquez/Tarea-03-Metodos-Numericos/blob/main/Tarea03MetodosNumericos.ipynb\" target=\"_parent\"><img src=\"https://colab.research.google.com/assets/colab-badge.svg\" alt=\"Open In Colab\"/></a>"
      ]
    },
    {
      "cell_type": "code",
      "execution_count": null,
      "metadata": {
        "id": "FqWEdvO4nfIc"
      },
      "outputs": [],
      "source": [
        "\n"
      ]
    },
    {
      "cell_type": "markdown",
      "source": [
        "#Código Ejercicio 1"
      ],
      "metadata": {
        "id": "IKsiO_j2nlAJ"
      }
    },
    {
      "cell_type": "code",
      "source": [
        "def sumaUno (limiteSup: int):\n",
        "    suma = 0\n",
        "    for i in range(limiteSup):\n",
        "        suma = round(suma + round(1/round((i+1)**2,3),3),3)\n",
        "    return suma\n",
        "print(sumaUno(5))\n",
        "\n",
        "def sumaDos (limiteSup: int):\n",
        "    suma = 0\n",
        "    for i in reversed(range(limiteSup)):\n",
        "        suma = round(suma + round(1/round((i+1)**2,3),3),3)\n",
        "    return suma\n",
        "print(sumaDos(5))\n",
        "\n",
        "def sumaUno (limiteSup: int):\n",
        "    suma = 0\n",
        "    for i in range(limiteSup):\n",
        "        suma = round(suma + round(1/round((i+1)**3,3),3),3)\n",
        "    return suma\n",
        "print(sumaUno(5))\n",
        "\n",
        "def sumaDos (limiteSup: int):\n",
        "    suma = 0\n",
        "    for i in reversed(range(limiteSup)):\n",
        "        suma = round(suma + round(1/round((i+1)**3,3),3),3)\n",
        "    return suma\n",
        "print(sumaDos(5))"
      ],
      "metadata": {
        "colab": {
          "base_uri": "https://localhost:8080/"
        },
        "id": "ThqN2EiSnr5I",
        "outputId": "c768a29c-09b8-4947-84f9-5580a5ff5499"
      },
      "execution_count": 1,
      "outputs": [
        {
          "output_type": "stream",
          "name": "stdout",
          "text": [
            "1.463\n",
            "1.463\n",
            "1.186\n",
            "1.186\n"
          ]
        }
      ]
    },
    {
      "cell_type": "markdown",
      "source": [
        "#Código Ejercicio 2"
      ],
      "metadata": {
        "id": "7ucMAnWen7Kb"
      }
    },
    {
      "cell_type": "code",
      "source": [
        "\n",
        "\n",
        "import math\n",
        "def arctanAprox(n):\n",
        "    sum = 0\n",
        "    for i in range(1,n+1):\n",
        "        num = (-1)**(i+1)\n",
        "        den = 2*i-1\n",
        "        sum += num/den\n",
        "    error = abs(4*sum-math.pi)\n",
        "    return error\n",
        "\n",
        "\n",
        "e1 = arctanAprox(5)\n",
        "print(\"El error absoluto es: \"+format(e1, \".1E\"))\n",
        "e2 = arctanAprox(10)\n",
        "print(\"El error absoluto es: \"+format(e2, \".1E\"))\n",
        "e3 = arctanAprox(50)\n",
        "print(\"El error absoluto es: \"+format(e3, \".1E\"))\n",
        "e4 = arctanAprox(100)\n",
        "print(\"El error absoluto es: \"+format(e4, \".1E\"))\n",
        "e5 = arctanAprox(1000)\n",
        "print(\"El error absoluto es: \"+format(e5, \".1E\"))\n",
        "e6 = arctanAprox(10000000000)\n",
        "print(\"El error absoluto es: \"+format(e6, \".1E\"))\n",
        "\n"
      ],
      "metadata": {
        "colab": {
          "base_uri": "https://localhost:8080/",
          "height": 419
        },
        "id": "eCLPIlmyoDiI",
        "outputId": "030fecd5-7b64-46ba-c9a6-07be3f6fb372"
      },
      "execution_count": 2,
      "outputs": [
        {
          "output_type": "stream",
          "name": "stdout",
          "text": [
            "El error absoluto es: 2.0E-01\n",
            "El error absoluto es: 1.0E-01\n",
            "El error absoluto es: 2.0E-02\n",
            "El error absoluto es: 1.0E-02\n",
            "El error absoluto es: 1.0E-03\n"
          ]
        },
        {
          "output_type": "error",
          "ename": "KeyboardInterrupt",
          "evalue": "",
          "traceback": [
            "\u001b[0;31m---------------------------------------------------------------------------\u001b[0m",
            "\u001b[0;31mKeyboardInterrupt\u001b[0m                         Traceback (most recent call last)",
            "\u001b[0;32m<ipython-input-2-b7163269dfb0>\u001b[0m in \u001b[0;36m<cell line: 22>\u001b[0;34m()\u001b[0m\n\u001b[1;32m     20\u001b[0m \u001b[0me5\u001b[0m \u001b[0;34m=\u001b[0m \u001b[0marctanAprox\u001b[0m\u001b[0;34m(\u001b[0m\u001b[0;36m1000\u001b[0m\u001b[0;34m)\u001b[0m\u001b[0;34m\u001b[0m\u001b[0;34m\u001b[0m\u001b[0m\n\u001b[1;32m     21\u001b[0m \u001b[0mprint\u001b[0m\u001b[0;34m(\u001b[0m\u001b[0;34m\"El error absoluto es: \"\u001b[0m\u001b[0;34m+\u001b[0m\u001b[0mformat\u001b[0m\u001b[0;34m(\u001b[0m\u001b[0me5\u001b[0m\u001b[0;34m,\u001b[0m \u001b[0;34m\".1E\"\u001b[0m\u001b[0;34m)\u001b[0m\u001b[0;34m)\u001b[0m\u001b[0;34m\u001b[0m\u001b[0;34m\u001b[0m\u001b[0m\n\u001b[0;32m---> 22\u001b[0;31m \u001b[0me6\u001b[0m \u001b[0;34m=\u001b[0m \u001b[0marctanAprox\u001b[0m\u001b[0;34m(\u001b[0m\u001b[0;36m10000000000\u001b[0m\u001b[0;34m)\u001b[0m\u001b[0;34m\u001b[0m\u001b[0;34m\u001b[0m\u001b[0m\n\u001b[0m\u001b[1;32m     23\u001b[0m \u001b[0mprint\u001b[0m\u001b[0;34m(\u001b[0m\u001b[0;34m\"El error absoluto es: \"\u001b[0m\u001b[0;34m+\u001b[0m\u001b[0mformat\u001b[0m\u001b[0;34m(\u001b[0m\u001b[0me6\u001b[0m\u001b[0;34m,\u001b[0m \u001b[0;34m\".1E\"\u001b[0m\u001b[0;34m)\u001b[0m\u001b[0;34m)\u001b[0m\u001b[0;34m\u001b[0m\u001b[0;34m\u001b[0m\u001b[0m\n\u001b[1;32m     24\u001b[0m \u001b[0;34m\u001b[0m\u001b[0m\n",
            "\u001b[0;32m<ipython-input-2-b7163269dfb0>\u001b[0m in \u001b[0;36marctanAprox\u001b[0;34m(n)\u001b[0m\n\u001b[1;32m      5\u001b[0m         \u001b[0mnum\u001b[0m \u001b[0;34m=\u001b[0m \u001b[0;34m(\u001b[0m\u001b[0;34m-\u001b[0m\u001b[0;36m1\u001b[0m\u001b[0;34m)\u001b[0m\u001b[0;34m**\u001b[0m\u001b[0;34m(\u001b[0m\u001b[0mi\u001b[0m\u001b[0;34m+\u001b[0m\u001b[0;36m1\u001b[0m\u001b[0;34m)\u001b[0m\u001b[0;34m\u001b[0m\u001b[0;34m\u001b[0m\u001b[0m\n\u001b[1;32m      6\u001b[0m         \u001b[0mden\u001b[0m \u001b[0;34m=\u001b[0m \u001b[0;36m2\u001b[0m\u001b[0;34m*\u001b[0m\u001b[0mi\u001b[0m\u001b[0;34m-\u001b[0m\u001b[0;36m1\u001b[0m\u001b[0;34m\u001b[0m\u001b[0;34m\u001b[0m\u001b[0m\n\u001b[0;32m----> 7\u001b[0;31m         \u001b[0msum\u001b[0m \u001b[0;34m+=\u001b[0m \u001b[0mnum\u001b[0m\u001b[0;34m/\u001b[0m\u001b[0mden\u001b[0m\u001b[0;34m\u001b[0m\u001b[0;34m\u001b[0m\u001b[0m\n\u001b[0m\u001b[1;32m      8\u001b[0m     \u001b[0merror\u001b[0m \u001b[0;34m=\u001b[0m \u001b[0mabs\u001b[0m\u001b[0;34m(\u001b[0m\u001b[0;36m4\u001b[0m\u001b[0;34m*\u001b[0m\u001b[0msum\u001b[0m\u001b[0;34m-\u001b[0m\u001b[0mmath\u001b[0m\u001b[0;34m.\u001b[0m\u001b[0mpi\u001b[0m\u001b[0;34m)\u001b[0m\u001b[0;34m\u001b[0m\u001b[0;34m\u001b[0m\u001b[0m\n\u001b[1;32m      9\u001b[0m     \u001b[0;32mreturn\u001b[0m \u001b[0merror\u001b[0m\u001b[0;34m\u001b[0m\u001b[0;34m\u001b[0m\u001b[0m\n",
            "\u001b[0;31mKeyboardInterrupt\u001b[0m: "
          ]
        }
      ]
    },
    {
      "cell_type": "markdown",
      "source": [
        "#Código Ejercicio 3"
      ],
      "metadata": {
        "id": "gGz7GOzQomh0"
      }
    },
    {
      "cell_type": "code",
      "source": [
        "import math\n",
        "\n",
        "def calcularArctanTermino(x, num_terminos):\n",
        "    suma = 0\n",
        "    for k in range(num_terminos):\n",
        "        termino = ((-1) ** k * x ** (2 * k + 1)) / (2 * k + 1)\n",
        "        suma += termino\n",
        "    return suma\n",
        "\n",
        "def aproximarPi(error_tolerado=1e-3):\n",
        "    pi_real = math.pi\n",
        "    pi_aproximado = 0\n",
        "    num_terminos = 1\n",
        "\n",
        "    while True:\n",
        "        termino_actual = 4 * calcularArctanTermino(1 / 5, num_terminos) - calcularArctanTermino(1 / 239, num_terminos)\n",
        "        pi_aproximado = 4 * termino_actual\n",
        "\n",
        "        if abs(pi_aproximado - pi_real) < error_tolerado:\n",
        "            break\n",
        "\n",
        "        num_terminos += 1\n",
        "\n",
        "    return pi_aproximado, num_terminos\n",
        "\n",
        "# Ejemplo de uso\n",
        "error_tolerado = 1e-3\n",
        "pi_aproximado, num_terminos = aproximarPi(error_tolerado)\n",
        "print(f\"Aproximación de π: {pi_aproximado}\")\n",
        "print(f\"Número de términos: {num_terminos}\")\n"
      ],
      "metadata": {
        "colab": {
          "base_uri": "https://localhost:8080/"
        },
        "id": "5h2dT1i9osVV",
        "outputId": "cbb438aa-edae-44cd-9071-9e8c665ba092"
      },
      "execution_count": 3,
      "outputs": [
        {
          "output_type": "stream",
          "name": "stdout",
          "text": [
            "Aproximación de π: 3.1405970293260603\n",
            "Número de términos: 2\n"
          ]
        }
      ]
    },
    {
      "cell_type": "markdown",
      "source": [
        "##Código Ejercicio 4"
      ],
      "metadata": {
        "id": "C3OV-ZZUpBjy"
      }
    },
    {
      "cell_type": "markdown",
      "source": [],
      "metadata": {
        "id": "1p--dvb6pHA6"
      }
    },
    {
      "cell_type": "code",
      "source": [
        "#Algoritmo 1\n",
        "\n",
        "def Algoritmo_1(valores):\n",
        "    producto = 0\n",
        "    for x in valores:\n",
        "        producto *= 1/(x**2)\n",
        "    return producto\n",
        "\n",
        "valores_1a = [10, 9, 8, 7, 6, 5, 4, 3, 2, 1]\n",
        "print(\"Resultado del algoritmo 1:\", Algoritmo_1(valores_1a))\n",
        "\n",
        "\n",
        "#Algoritmo 2\n",
        "\n",
        "def Algoritmo_2(valores):\n",
        "    producto = 1\n",
        "    for x in valores:\n",
        "        producto *= (1/x**2)\n",
        "    return producto\n",
        "\n",
        "valores_1a = [10, 9, 8, 7, 6, 5, 4, 3, 2, 1]\n",
        "print(\"Resultado del algoritmo 2:\", Algoritmo_2(valores_1a))\n",
        "\n",
        "\n",
        "#Algoritmo 3\n",
        "\n",
        "def Algoritmo_3(valores):\n",
        "    producto = 1\n",
        "    for x in valores:\n",
        "        if x == 0:\n",
        "            producto = 0\n",
        "            return producto\n",
        "        producto *= (1/x**2)\n",
        "    return producto\n",
        "\n",
        "valores_1a = [10, 9, 8, 7, 6, 5, 4, 3, 2, 1]\n",
        "print(\"Resultado del algoritmo 3:\", Algoritmo_3(valores_1a))"
      ],
      "metadata": {
        "colab": {
          "base_uri": "https://localhost:8080/"
        },
        "id": "j8ZDlbAopSoT",
        "outputId": "d0daa12c-cc08-4be1-b838-6771854d120a"
      },
      "execution_count": 5,
      "outputs": [
        {
          "output_type": "stream",
          "name": "stdout",
          "text": [
            "Resultado del algoritmo 1: 0.0\n",
            "Resultado del algoritmo 2: 7.594058428126622e-14\n",
            "Resultado del algoritmo 3: 7.594058428126622e-14\n"
          ]
        }
      ]
    },
    {
      "cell_type": "markdown",
      "source": [
        "#Código Ejercicio 5"
      ],
      "metadata": {
        "id": "HcRyCGwWpwBu"
      }
    },
    {
      "cell_type": "code",
      "source": [
        "import math\n",
        "\n",
        "def calcularArctanTermino(x, num_terminos):\n",
        "    suma = 0\n",
        "    for k in range(num_terminos):\n",
        "        termino = ((-1) ** k * x ** (2 * k + 1)) / (2 * k + 1)\n",
        "        suma += termino\n",
        "    return suma\n",
        "\n",
        "def aproximarPi(error_tolerado=1e-3):\n",
        "    pi_real = math.pi\n",
        "    pi_aproximado = 0\n",
        "    num_terminos = 1\n",
        "\n",
        "    while True:\n",
        "        termino_actual = 4 * calcularArctanTermino(1 / 5, num_terminos) - calcularArctanTermino(1 / 239, num_terminos)\n",
        "        pi_aproximado = 4 * termino_actual\n",
        "\n",
        "        if abs(pi_aproximado - pi_real) < error_tolerado:\n",
        "            break\n",
        "\n",
        "        num_terminos += 1\n",
        "\n",
        "    return pi_aproximado, num_terminos\n",
        "\n",
        "# Ejemplo de uso\n",
        "error_tolerado = 1e-3\n",
        "pi_aproximado, num_terminos = aproximarPi(error_tolerado)\n",
        "print(f\"Aproximación de π: {pi_aproximado}\")\n",
        "print(f\"Número de términos: {num_terminos}\")\n"
      ],
      "metadata": {
        "colab": {
          "base_uri": "https://localhost:8080/"
        },
        "id": "_xbhELNyp3rq",
        "outputId": "11e19d16-28bd-4031-e123-16ab64d67dec"
      },
      "execution_count": 6,
      "outputs": [
        {
          "output_type": "stream",
          "name": "stdout",
          "text": [
            "Aproximación de π: 3.1405970293260603\n",
            "Número de términos: 2\n"
          ]
        }
      ]
    },
    {
      "cell_type": "markdown",
      "source": [
        "#Código Ejericicio 6"
      ],
      "metadata": {
        "id": "oJEX2dKOqFZz"
      }
    },
    {
      "cell_type": "code",
      "source": [
        "def sumarSerieInversa(n: int, x: float) -> float:\n",
        "    suma = 0\n",
        "    for i in range(n, 0, -1):\n",
        "        suma += x ** i\n",
        "    return suma\n",
        "\n",
        "# Ejemplo de uso de sumarSerieInversa\n",
        "n = 5\n",
        "x = 2\n",
        "resultado = sumarSerieInversa(n, x)\n",
        "print(\"La suma de la serie en orden inverso es:\", resultado)\n"
      ],
      "metadata": {
        "colab": {
          "base_uri": "https://localhost:8080/"
        },
        "id": "YYSZFBOyqKr8",
        "outputId": "408e505a-ab13-4398-bbc4-66ccae803116"
      },
      "execution_count": 7,
      "outputs": [
        {
          "output_type": "stream",
          "name": "stdout",
          "text": [
            "La suma de la serie en orden inverso es: 62\n"
          ]
        }
      ]
    },
    {
      "cell_type": "markdown",
      "source": [
        "#Ejercicio 7"
      ],
      "metadata": {
        "id": "_XThxNXxqTn-"
      }
    },
    {
      "cell_type": "code",
      "source": [
        "import math\n",
        "def ec_2do_grado(a, b, c):\n",
        "  discriminante = b**2 - 4*a*c\n",
        "  if discriminante > 0:\n",
        "    # Dos raices diferentes\n",
        "    x1 = (-b + (math.sqrt(discriminante)))/2*a\n",
        "    x2 = (-b - (math.sqrt(discriminante)))/2*a\n",
        "\n",
        "    return x1, x2\n",
        "  elif discriminante == 0:\n",
        "    # Dos raices iguales\n",
        "    x = -b / (2*a)\n",
        "\n",
        "    return x, x\n",
        "  else:\n",
        "    # Raices complejas\n",
        "    parte_real = -b / (2*a)\n",
        "    parte_imaginaria = math.sqrt(abs(discriminante)) / (2*a)\n",
        "\n",
        "    x1 = complex(parte_real, parte_imaginaria)\n",
        "    x2 = complex(parte_real, -parte_imaginaria)\n",
        "\n",
        "    return x1, x2\n",
        "\n",
        "ec1 = ec_2do_grado(1, 6, 8)\n",
        "print('Raices diferentes:', ec1)\n",
        "ec2 = ec_2do_grado(1, -4, 4)\n",
        "print('Raíces iguales: ', ec2)\n",
        "ec3 = ec_2do_grado(2, 1, 2)\n",
        "print('Raice complejaz: ', ec3)\n",
        "\n"
      ],
      "metadata": {
        "colab": {
          "base_uri": "https://localhost:8080/"
        },
        "id": "y2I3x_6gqWPI",
        "outputId": "0a959d38-f3e1-47eb-cd80-8a5b561cca4c"
      },
      "execution_count": 9,
      "outputs": [
        {
          "output_type": "stream",
          "name": "stdout",
          "text": [
            "Raices diferentes: (-2.0, -4.0)\n",
            "Raíces iguales:  (2.0, 2.0)\n",
            "Raice complejaz:  ((-0.25+0.9682458365518543j), (-0.25-0.9682458365518543j))\n"
          ]
        }
      ]
    },
    {
      "cell_type": "markdown",
      "source": [
        "#Ejercicio 8"
      ],
      "metadata": {
        "id": "145wm4Rhqhnr"
      }
    },
    {
      "cell_type": "code",
      "source": [
        "def ejercicio8_LadoIzquierdo(n: int, x: int) -> float:\n",
        "    serie = [0]\n",
        "    serie2 = [1]\n",
        "    serie3 = [1]\n",
        "    res = 0.0\n",
        "\n",
        "    for i in range(1, n):\n",
        "        res += (serie2[-1] * (x ** serie[-1]) - (2 ** i) * (x ** serie3[-1])) / (1 - x ** serie2[-1] + x ** (2 ** i))\n",
        "\n",
        "        serie.append(serie[-1] + i)\n",
        "        serie2.append(serie2[-1] * 2)\n",
        "        serie3.append(serie3[-1] + (2 ** i))\n",
        "\n",
        "    return res\n",
        "\n",
        "# Ejemplo de uso\n",
        "resultado = ejercicio8_LadoIzquierdo(5, 2)\n",
        "print(resultado)\n"
      ],
      "metadata": {
        "colab": {
          "base_uri": "https://localhost:8080/"
        },
        "id": "Z1ikg6A-qjpd",
        "outputId": "fc2ecbe1-3dad-4e26-f711-a1848a545196"
      },
      "execution_count": 10,
      "outputs": [
        {
          "output_type": "stream",
          "name": "stdout",
          "text": [
            "-15.293435230649841\n"
          ]
        }
      ]
    }
  ]
}