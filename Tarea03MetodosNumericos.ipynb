{
  "nbformat": 4,
  "nbformat_minor": 0,
  "metadata": {
    "colab": {
      "provenance": [],
      "authorship_tag": "ABX9TyMmoqem/jJekQbQTXohfh3Z",
      "include_colab_link": true
    },
    "kernelspec": {
      "name": "python3",
      "display_name": "Python 3"
    },
    "language_info": {
      "name": "python"
    }
  },
  "cells": [
    {
      "cell_type": "markdown",
      "metadata": {
        "id": "view-in-github",
        "colab_type": "text"
      },
      "source": [
        "<a href=\"https://colab.research.google.com/github/JorgeBosquez/Tarea-03-Metodos-Numericos/blob/main/Tarea03MetodosNumericos.ipynb\" target=\"_parent\"><img src=\"https://colab.research.google.com/assets/colab-badge.svg\" alt=\"Open In Colab\"/></a>"
      ]
    },
    {
      "cell_type": "markdown",
      "source": [],
      "metadata": {
        "id": "DBvEwFfHTW69"
      }
    },
    {
      "cell_type": "markdown",
      "source": [
        "#Tarea de Métodos Numéricos"
      ],
      "metadata": {
        "id": "qjKFl5voTL5B"
      }
    },
    {
      "cell_type": "markdown",
      "source": [
        "#### Ejercicio  1"
      ],
      "metadata": {
        "id": "-zYqfMimTnja"
      }
    },
    {
      "cell_type": "code",
      "source": [
        "\"Ejercicio 1\"\n",
        "\"Literal a\"\n",
        "import math\n",
        "\n",
        "def round_to_three_digits(x):\n",
        "    if x == 0:\n",
        "        return 0\n",
        "    else:\n",
        "        return round(x, -int(math.floor(math.log10(abs(x)))) + 2)\n",
        "\n",
        "def sum_ascending():\n",
        "    total = 0\n",
        "    for i in range(1, 11):\n",
        "        term = 1 / (i ** 2)\n",
        "        term = round_to_three_digits(term)  # Redondear cada término a tres dígitos\n",
        "        total += term\n",
        "        total = round_to_three_digits(total)\n",
        "        print(f\"Suma parcial (ascendente) después de agregar 1/{i**2}: {total}\")\n",
        "    return total\n",
        "\n",
        "def sum_descending():\n",
        "    total = 0\n",
        "    for i in range(10, 0, -1):\n",
        "        term = 1 / (i ** 2)\n",
        "        term = round_to_three_digits(term)  # Redondear cada término a tres dígitos\n",
        "        total += term\n",
        "        total = round_to_three_digits(total)\n",
        "        print(f\"Suma parcial (descendente) después de agregar 1/{i**2}: {total}\")\n",
        "    return total\n",
        "\n",
        "# Calcular las sumas\n",
        "sum_asc = sum_ascending()\n",
        "sum_desc = sum_descending()\n",
        "\n",
        "print(\"Suma en orden ascendente:\", sum_asc)\n",
        "print(\"Suma en orden descendente:\", sum_desc)\n",
        "\"Literal b\"\n",
        "import math\n",
        "\n",
        "def round_to_three_digits(x):\n",
        "    if x == 0:\n",
        "        return 0\n",
        "    else:\n",
        "        return round(x, -int(math.floor(math.log10(abs(x)))) + 2)\n",
        "\n",
        "def sum_ascending():\n",
        "    total = 0\n",
        "    for i in range(1, 11):\n",
        "        term = 1 / (i ** 3)\n",
        "        term = round_to_three_digits(term)  # Redondear cada término a tres dígitos\n",
        "        total += term\n",
        "        total = round_to_three_digits(total)\n",
        "        print(f\"Suma parcial (ascendente) después de agregar 1/{i**3}: {total}\")\n",
        "    return total\n",
        "\n",
        "def sum_descending():\n",
        "    total = 0\n",
        "    for i in range(10, 0, -1):\n",
        "        term = 1 / (i ** 3)\n",
        "        term = round_to_three_digits(term)  # Redondear cada término a tres dígitos\n",
        "        total += term\n",
        "        total = round_to_three_digits(total)\n",
        "        print(f\"Suma parcial (descendente) después de agregar 1/{i**3}: {total}\")\n",
        "    return total\n",
        "\n",
        "# Calcular las sumas\n",
        "sum_asc = sum_ascending()\n",
        "sum_desc = sum_descending()\n",
        "\n",
        "print(\"Suma en orden ascendente:\", sum_asc)\n",
        "print(\"Suma en orden descendente:\", sum_desc)\n"
      ],
      "metadata": {
        "colab": {
          "base_uri": "https://localhost:8080/"
        },
        "id": "Aua7X1i1Ncjc",
        "outputId": "d8d8ba9e-71be-4bfa-ad0e-1635a6060d54"
      },
      "execution_count": 3,
      "outputs": [
        {
          "output_type": "stream",
          "name": "stdout",
          "text": [
            "Suma parcial (ascendente) después de agregar 1/1: 1.0\n",
            "Suma parcial (ascendente) después de agregar 1/4: 1.25\n",
            "Suma parcial (ascendente) después de agregar 1/9: 1.36\n",
            "Suma parcial (ascendente) después de agregar 1/16: 1.42\n",
            "Suma parcial (ascendente) después de agregar 1/25: 1.46\n",
            "Suma parcial (ascendente) después de agregar 1/36: 1.49\n",
            "Suma parcial (ascendente) después de agregar 1/49: 1.51\n",
            "Suma parcial (ascendente) después de agregar 1/64: 1.53\n",
            "Suma parcial (ascendente) después de agregar 1/81: 1.54\n",
            "Suma parcial (ascendente) después de agregar 1/100: 1.55\n",
            "Suma parcial (descendente) después de agregar 1/100: 0.01\n",
            "Suma parcial (descendente) después de agregar 1/81: 0.0223\n",
            "Suma parcial (descendente) después de agregar 1/64: 0.0379\n",
            "Suma parcial (descendente) después de agregar 1/49: 0.0583\n",
            "Suma parcial (descendente) después de agregar 1/36: 0.0861\n",
            "Suma parcial (descendente) después de agregar 1/25: 0.126\n",
            "Suma parcial (descendente) después de agregar 1/16: 0.189\n",
            "Suma parcial (descendente) después de agregar 1/9: 0.3\n",
            "Suma parcial (descendente) después de agregar 1/4: 0.55\n",
            "Suma parcial (descendente) después de agregar 1/1: 1.55\n",
            "Suma en orden ascendente: 1.55\n",
            "Suma en orden descendente: 1.55\n",
            "Suma parcial (ascendente) después de agregar 1/1: 1.0\n",
            "Suma parcial (ascendente) después de agregar 1/8: 1.12\n",
            "Suma parcial (ascendente) después de agregar 1/27: 1.16\n",
            "Suma parcial (ascendente) después de agregar 1/64: 1.18\n",
            "Suma parcial (ascendente) después de agregar 1/125: 1.19\n",
            "Suma parcial (ascendente) después de agregar 1/216: 1.19\n",
            "Suma parcial (ascendente) después de agregar 1/343: 1.19\n",
            "Suma parcial (ascendente) después de agregar 1/512: 1.19\n",
            "Suma parcial (ascendente) después de agregar 1/729: 1.19\n",
            "Suma parcial (ascendente) después de agregar 1/1000: 1.19\n",
            "Suma parcial (descendente) después de agregar 1/1000: 0.001\n",
            "Suma parcial (descendente) después de agregar 1/729: 0.00237\n",
            "Suma parcial (descendente) después de agregar 1/512: 0.00432\n",
            "Suma parcial (descendente) después de agregar 1/343: 0.00724\n",
            "Suma parcial (descendente) después de agregar 1/216: 0.0119\n",
            "Suma parcial (descendente) después de agregar 1/125: 0.0199\n",
            "Suma parcial (descendente) después de agregar 1/64: 0.0355\n",
            "Suma parcial (descendente) después de agregar 1/27: 0.0725\n",
            "Suma parcial (descendente) después de agregar 1/8: 0.198\n",
            "Suma parcial (descendente) después de agregar 1/1: 1.2\n",
            "Suma en orden ascendente: 1.19\n",
            "Suma en orden descendente: 1.2\n"
          ]
        }
      ]
    },
    {
      "cell_type": "code",
      "execution_count": 2,
      "metadata": {
        "colab": {
          "base_uri": "https://localhost:8080/"
        },
        "id": "s30swU6DKPR7",
        "outputId": "d4e3534d-cd40-4d1d-c85f-93e8f27dfdb2"
      },
      "outputs": [
        {
          "output_type": "stream",
          "name": "stdout",
          "text": [
            "La suma en orden inverso es: 15\n"
          ]
        }
      ],
      "source": [
        "\"Ejercicio 6\"\n",
        "def suma_en_orden_inverso(x, n):\n",
        "    suma = 0\n",
        "    for i in range(n, 0, -1):\n",
        "        suma += x[i - 1]\n",
        "    return suma\n",
        "\n",
        "# Ejemplo de uso\n",
        "serie = [1, 2, 3, 4, 5]\n",
        "resultado = suma_en_orden_inverso(serie, len(serie))\n",
        "print(\"La suma en orden inverso es:\", resultado)\n"
      ]
    }
  ]
}