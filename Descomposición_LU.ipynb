{
  "nbformat": 4,
  "nbformat_minor": 0,
  "metadata": {
    "colab": {
      "provenance": [],
      "authorship_tag": "ABX9TyNL72Q1SdjKoLby5znShljg",
      "include_colab_link": true
    },
    "kernelspec": {
      "name": "python3",
      "display_name": "Python 3"
    },
    "language_info": {
      "name": "python"
    }
  },
  "cells": [
    {
      "cell_type": "markdown",
      "metadata": {
        "id": "view-in-github",
        "colab_type": "text"
      },
      "source": [
        "<a href=\"https://colab.research.google.com/github/JorgeBosquez/Tarea-03-Metodos-Numericos/blob/main/Descomposici%C3%B3n_LU.ipynb\" target=\"_parent\"><img src=\"https://colab.research.google.com/assets/colab-badge.svg\" alt=\"Open In Colab\"/></a>"
      ]
    },
    {
      "cell_type": "markdown",
      "source": [
        "# CONJUNTO DE EJERCICIOS\n",
        "\n",
        "1.  Resuelva las siguientes multiplicaciones matriz-matriz:\n",
        "    \n",
        "    a. \\[\n",
        "    \\begin{bmatrix}\n",
        "    1 & 2 & 1 \\\\\n",
        "    0 & 1 & 0 \\\\\n",
        "    1 & 0 & 1\n",
        "    \\end{bmatrix}\n",
        "    \n",
        "    \\begin{bmatrix}\n",
        "    1 & 0 & 1 \\\\\n",
        "    1 & 2 & 1 \\\\\n",
        "    1 & 0 & 0\n",
        "    \\end{bmatrix}\n",
        "    \\]\n",
        "    \n",
        "    b. \\[\n",
        "    \\begin{bmatrix}\n",
        "    1 & 0 & 2 \\\\\n",
        "    1 & 1 & 1 \\\\\n",
        "    0 & 0 & 1\n",
        "    \\end{bmatrix}\n",
        "    \n",
        "    \\begin{bmatrix}\n",
        "    0 & 1 & 1 \\\\\n",
        "    2 & 1 & 1 \\\\\n",
        "    1 & 0 & 0\n",
        "    \\end{bmatrix}\n",
        "    \\]\n",
        "    \n",
        "    c. \\[\n",
        "    \\begin{bmatrix}\n",
        "    2 & 1 \\\\\n",
        "    1 & 3 \\\\\n",
        "    1 & 2\n",
        "    \\end{bmatrix}\n",
        "    \n",
        "    \\begin{bmatrix}\n",
        "    1 & 0 \\\\\n",
        "    2 & 3\n",
        "    \\end{bmatrix}\n",
        "    \\]"
      ],
      "metadata": {
        "id": "feIu-yqXrD5F"
      }
    },
    {
      "cell_type": "code",
      "source": [
        "import numpy as np\n",
        "\n",
        "# 1a\n",
        "A1a = np.array([[1, 2, 1], [0, 1, 0], [1, 0, 1]])\n",
        "B1a = np.array([[1, 0, 1], [1, 2, 1], [1, 0, 0]])\n",
        "result_1a = np.dot(A1a, B1a)\n",
        "\n",
        "# 1b\n",
        "A1b = np.array([[1, 0, 2], [1, 1, 1], [0, 0, 1]])\n",
        "B1b = np.array([[0, 1, 1], [2, 1, 1], [1, 0, 0]])\n",
        "result_1b = np.dot(A1b, B1b)\n",
        "\n",
        "# 1c\n",
        "A1c = np.array([[2, 1], [1, 3], [1, 2]])\n",
        "B1c = np.array([[1, 0], [2, 3]])\n",
        "result_1c = np.dot(A1c, B1c)\n",
        "\n",
        "result_1a, result_1b, result_1c\n"
      ],
      "metadata": {
        "colab": {
          "base_uri": "https://localhost:8080/"
        },
        "id": "3giyfDEIrRkd",
        "outputId": "7d22e1ef-ff8b-414d-d41d-f32d1fcc7945"
      },
      "execution_count": 1,
      "outputs": [
        {
          "output_type": "execute_result",
          "data": {
            "text/plain": [
              "(array([[4, 4, 3],\n",
              "        [1, 2, 1],\n",
              "        [2, 0, 1]]),\n",
              " array([[2, 1, 1],\n",
              "        [3, 2, 2],\n",
              "        [1, 0, 0]]),\n",
              " array([[4, 3],\n",
              "        [7, 9],\n",
              "        [5, 6]]))"
            ]
          },
          "metadata": {},
          "execution_count": 1
        }
      ]
    },
    {
      "cell_type": "markdown",
      "source": [
        "2. Determine cuál de los siguientes matrices son de eigenvalores y cuál(es) no lo son mediante la matriz:\n",
        "    \n",
        "    a. \\[\n",
        "    \\begin{bmatrix}\n",
        "    1 & 2 \\\\\n",
        "    2 & 3\n",
        "    \\end{bmatrix}\n",
        "    \\]\n",
        "    \n",
        "    b. \\[\n",
        "    \\begin{bmatrix}\n",
        "    4 & -2 \\\\\n",
        "    1 & 1\n",
        "    \\end{bmatrix}\n",
        "    \\]\n",
        "    \n",
        "    c. \\[\n",
        "    \\begin{bmatrix}\n",
        "    2 & 1 \\\\\n",
        "    1 & 2\n",
        "    \\end{bmatrix}\n",
        "    \\]"
      ],
      "metadata": {
        "id": "LqXFHWJlrzql"
      }
    },
    {
      "cell_type": "code",
      "source": [
        "# 2a\n",
        "A2a = np.array([[1, 2], [2, 3]])\n",
        "eigenvalues_2a = np.linalg.eigvals(A2a)\n",
        "\n",
        "# 2b\n",
        "A2b = np.array([[4, -2], [1, 1]])\n",
        "eigenvalues_2b = np.linalg.eigvals(A2b)\n",
        "\n",
        "# 2c\n",
        "A2c = np.array([[2, 1], [1, 2]])\n",
        "eigenvalues_2c = np.linalg.eigvals(A2c)\n",
        "\n",
        "eigenvalues_2a, eigenvalues_2b, eigenvalues_2c\n"
      ],
      "metadata": {
        "colab": {
          "base_uri": "https://localhost:8080/"
        },
        "id": "bdenImxzr4ig",
        "outputId": "de911f04-8b1e-495b-a6ee-8944ff06faf0"
      },
      "execution_count": 2,
      "outputs": [
        {
          "output_type": "execute_result",
          "data": {
            "text/plain": [
              "(array([-0.23606798,  4.23606798]), array([3., 2.]), array([3., 1.]))"
            ]
          },
          "metadata": {},
          "execution_count": 2
        }
      ]
    },
    {
      "cell_type": "markdown",
      "source": [
        "3. Resuelva los sistemas lineales que se tienen en la siguiente matriz de ecuaciones:\n",
        "\n",
        "    \\[\n",
        "    \\begin{cases}\n",
        "    2x_1 + 3x_2 = 6 \\\\\n",
        "    5x_1 + 7x_2 = 10\n",
        "    \\end{cases}\n",
        "    \\]\n",
        "    \n",
        "    \\[\n",
        "    \\begin{cases}\n",
        "    x_1 + x_2 = 2 \\\\\n",
        "    3x_1 + 5x_2 = 4\n",
        "    \\end{cases}\n",
        "    \\]\n",
        "    \n",
        "    \\[\n",
        "    \\begin{cases}\n",
        "    2x_1 + 4x_2 = 6 \\\\\n",
        "    2x_2 + 3x_1 = 1\n",
        "    \\end{cases}\n",
        "    \\]\n"
      ],
      "metadata": {
        "id": "SIk2QvL3r-ws"
      }
    },
    {
      "cell_type": "code",
      "source": [
        "# 3a\n",
        "A3a = np.array([[2, 3], [5, 7]])\n",
        "b3a = np.array([6, 10])\n",
        "solution_3a = np.linalg.solve(A3a, b3a)\n",
        "\n",
        "# 3b\n",
        "A3b = np.array([[1, 1], [3, 5]])\n",
        "b3b = np.array([2, 4])\n",
        "solution_3b = np.linalg.solve(A3b, b3b)\n",
        "\n",
        "# 3c\n",
        "A3c = np.array([[2, 4], [2, 3]])\n",
        "b3c = np.array([6, 1])\n",
        "solution_3c = np.linalg.solve(A3c, b3c)\n",
        "\n",
        "solution_3a, solution_3b, solution_3c\n"
      ],
      "metadata": {
        "colab": {
          "base_uri": "https://localhost:8080/"
        },
        "id": "EabFth6rsGDs",
        "outputId": "bd6fe35f-23ff-4f64-b359-f050d73802bd"
      },
      "execution_count": 3,
      "outputs": [
        {
          "output_type": "execute_result",
          "data": {
            "text/plain": [
              "(array([-12.,  10.]), array([ 3., -1.]), array([-7.,  5.]))"
            ]
          },
          "metadata": {},
          "execution_count": 3
        }
      ]
    },
    {
      "cell_type": "markdown",
      "source": [
        "### Ejercicio 4: Encontrar valores de \\(\\alpha\\) que hacen que la matriz sea singular\n",
        "\n",
        "Encuentre los valores de \\(\\alpha\\) que hacen que la siguiente matriz sea singular:\n",
        "\n",
        "\\[\n",
        "A = \\begin{bmatrix}\n",
        "1 & -1 & \\alpha \\\\\n",
        "2 & 2 & 1 \\\\\n",
        "0 & \\alpha & -\\frac{3}{2}\n",
        "\\end{bmatrix}\n",
        "\\]\n"
      ],
      "metadata": {
        "id": "F1TcuHytsKcl"
      }
    },
    {
      "cell_type": "code",
      "source": [
        "import sympy as sp\n",
        "\n",
        "# Definir la variable simbólica\n",
        "alpha = sp.symbols('alpha')\n",
        "\n",
        "# Definir la matriz\n",
        "A = sp.Matrix([\n",
        "    [1, -1, alpha],\n",
        "    [2, 2, 1],\n",
        "    [0, alpha, -3/2]\n",
        "])\n",
        "\n",
        "# Calcular el determinante\n",
        "det_A = A.det()\n",
        "\n",
        "# Resolver la ecuación det(A) = 0\n",
        "solutions_alpha = sp.solve(det_A, alpha)\n",
        "\n",
        "det_A, solutions_alpha\n",
        "\n"
      ],
      "metadata": {
        "colab": {
          "base_uri": "https://localhost:8080/"
        },
        "id": "b1sEgu70sO9l",
        "outputId": "716bb16f-e565-4a82-cf59-056c8a6f2bff"
      },
      "execution_count": 6,
      "outputs": [
        {
          "output_type": "execute_result",
          "data": {
            "text/plain": [
              "(2*alpha**2 - alpha - 6.0, [-1.50000000000000, 2.00000000000000])"
            ]
          },
          "metadata": {},
          "execution_count": 6
        }
      ]
    },
    {
      "cell_type": "markdown",
      "source": [
        "5. Resuelva los siguientes sistemas lineales:\n",
        "    \n",
        "    a. \\[\n",
        "    \\begin{bmatrix}\n",
        "    1 & 1 & 0 \\\\\n",
        "    0 & 1 & 1 \\\\\n",
        "    1 & 1 & 1\n",
        "    \\end{bmatrix}\n",
        "    \n",
        "    \\begin{bmatrix}\n",
        "    x \\\\\n",
        "    y \\\\\n",
        "    z\n",
        "    \\end{bmatrix}\n",
        "    =\n",
        "    \\begin{bmatrix}\n",
        "    1 \\\\\n",
        "    2 \\\\\n",
        "    3\n",
        "    \\end{bmatrix}\n",
        "    \\]\n",
        "    \n",
        "    b. \\[\n",
        "    \\begin{bmatrix}\n",
        "    3 & 2 & 0 \\\\\n",
        "    1 & -1 & 0 \\\\\n",
        "    0 & 5 & 1\n",
        "    \\end{bmatrix}\n",
        "    \n",
        "    \\begin{bmatrix}\n",
        "    x \\\\\n",
        "    y \\\\\n",
        "    z\n",
        "    \\end{bmatrix}\n",
        "    =\n",
        "    \\begin{bmatrix}\n",
        "    7 \\\\\n",
        "    1 \\\\\n",
        "    -2\n",
        "    \\end{bmatrix}\n",
        "    \\]\n",
        "    \n",
        "    c. \\[\n",
        "    \\begin{bmatrix}\n",
        "    1 & 2 & 1 \\\\\n",
        "    2 & 3 & 4 \\\\\n",
        "    3 & 1 & 5\n",
        "    \\end{bmatrix}\n",
        "    \n",
        "    \\begin{bmatrix}\n",
        "    x \\\\\n",
        "    y \\\\\n",
        "    z\n",
        "    \\end{bmatrix}\n",
        "    =\n",
        "    \\begin{bmatrix}\n",
        "    1 \\\\\n",
        "    2 \\\\\n",
        "    3\n",
        "    \\end{bmatrix}\n",
        "    \\]"
      ],
      "metadata": {
        "id": "LIGOOXHctdM8"
      }
    },
    {
      "cell_type": "code",
      "source": [
        "# 5a\n",
        "A5a = np.array([[1, 1, 0], [0, 1, 1], [1, 1, 1]])\n",
        "b5a = np.array([1, 2, 3])\n",
        "solution_5a = np.linalg.solve(A5a, b5a)\n",
        "\n",
        "# 5b\n",
        "A5b = np.array([[3, 2, 0], [1, -1, 0], [0, 5, 1]])\n",
        "b5b = np.array([7, 1, -2])\n",
        "solution_5b = np.linalg.solve(A5b, b5b)\n",
        "\n",
        "# 5c\n",
        "A5c = np.array([[1, 2, 1], [2, 3, 4], [3, 1, 5]])\n",
        "b5c = np.array([1, 2, 3])\n",
        "solution_5c = np.linalg.solve(A5c, b5c)\n",
        "\n",
        "solution_5a, solution_5b, solution_5c\n"
      ],
      "metadata": {
        "colab": {
          "base_uri": "https://localhost:8080/"
        },
        "id": "ZCshIffBtpqF",
        "outputId": "54b0b7a5-e4f1-4828-8dad-f922d06b0341"
      },
      "execution_count": 7,
      "outputs": [
        {
          "output_type": "execute_result",
          "data": {
            "text/plain": [
              "(array([1., 0., 2.]), array([ 1.8,  0.8, -6. ]), array([ 1.,  0., -0.]))"
            ]
          },
          "metadata": {},
          "execution_count": 7
        }
      ]
    },
    {
      "cell_type": "markdown",
      "source": [
        "6. Para los siguientes ejercicios realice una descomposición \\(LU\\) mediante el algoritmo de Gaussiana sin \\(LU\\) con solo 1 permutación:\n",
        "    \n",
        "    a. \\[\n",
        "    \\begin{bmatrix}\n",
        "    2 & 3 & 1 \\\\\n",
        "    4 & 7 & 3 \\\\\n",
        "    6 & 2 & 5\n",
        "    \\end{bmatrix}\n",
        "    \\]\n",
        "\n",
        "    b. \\[\n",
        "    \\begin{bmatrix}\n",
        "    4 & -2 & 1 \\\\\n",
        "    20 & -7 & 12 \\\\\n",
        "    -8 & 13 & 17\n",
        "    \\end{bmatrix}\n",
        "    \\]"
      ],
      "metadata": {
        "id": "aUc-lrtvt0Ej"
      }
    },
    {
      "cell_type": "code",
      "source": [
        "import scipy.linalg\n",
        "\n",
        "# 6a\n",
        "A6a = np.array([[2, 3, 1], [4, 7, 3], [6, 2, 5]])\n",
        "P6a, L6a, U6a = scipy.linalg.lu(A6a)\n",
        "\n",
        "# 6b\n",
        "A6b = np.array([[4, -2, 1], [20, -7, 12], [-8, 13, 17]])\n",
        "P6b, L6b, U6b = scipy.linalg.lu(A6b)\n",
        "\n",
        "(P6a, L6a, U6a), (P6b, L6b, U6b)\n"
      ],
      "metadata": {
        "colab": {
          "base_uri": "https://localhost:8080/"
        },
        "id": "1LMSBribt1S8",
        "outputId": "9defb6a6-8a3b-442e-e204-53ed4ccbb653"
      },
      "execution_count": 8,
      "outputs": [
        {
          "output_type": "execute_result",
          "data": {
            "text/plain": [
              "((array([[0., 0., 1.],\n",
              "         [0., 1., 0.],\n",
              "         [1., 0., 0.]]),\n",
              "  array([[1.        , 0.        , 0.        ],\n",
              "         [0.66666667, 1.        , 0.        ],\n",
              "         [0.33333333, 0.41176471, 1.        ]]),\n",
              "  array([[ 6.        ,  2.        ,  5.        ],\n",
              "         [ 0.        ,  5.66666667, -0.33333333],\n",
              "         [ 0.        ,  0.        , -0.52941176]])),\n",
              " (array([[0., 0., 1.],\n",
              "         [1., 0., 0.],\n",
              "         [0., 1., 0.]]),\n",
              "  array([[ 1.        ,  0.        ,  0.        ],\n",
              "         [-0.4       ,  1.        ,  0.        ],\n",
              "         [ 0.2       , -0.05882353,  1.        ]]),\n",
              "  array([[20.        , -7.        , 12.        ],\n",
              "         [ 0.        , 10.2       , 21.8       ],\n",
              "         [ 0.        ,  0.        , -0.11764706]])))"
            ]
          },
          "metadata": {},
          "execution_count": 8
        }
      ]
    },
    {
      "cell_type": "markdown",
      "source": [
        "7. Modifique el algoritmo de eliminación gaussiana de forma que se pueda resolver una matriz en la forma general de descomposición \\(LU\\) sin permutación, resolviendo los sistemas siguientes lineales:\n",
        "    \n",
        "    \\[\n",
        "    \\begin{bmatrix}\n",
        "    1.002 & 0.999 & -3.001 \\\\\n",
        "    3.001 & 3.000 & 0.001 \\\\\n",
        "    2.000 & 1.999 & -1.000\n",
        "    \\end{bmatrix}\n",
        "    \\]\n",
        "    \n",
        "    a. \\[\n",
        "    \\begin{bmatrix}\n",
        "    1 \\\\\n",
        "    2 \\\\\n",
        "    3\n",
        "    \\end{bmatrix}\n",
        "    \\]\n",
        "    \n",
        "    b. \\[\n",
        "    \\begin{bmatrix}\n",
        "    0 \\\\\n",
        "    1 \\\\\n",
        "    1\n",
        "    \\end{bmatrix}\n",
        "    \\]\n",
        "    \n",
        "    c. \\[\n",
        "    \\begin{bmatrix}\n",
        "    1 \\\\\n",
        "    1 \\\\\n",
        "    1\n",
        "    \\end{bmatrix}\n",
        "    \\]"
      ],
      "metadata": {
        "id": "gSgo_n6Qt5cU"
      }
    },
    {
      "cell_type": "code",
      "source": [
        "# 7\n",
        "A7 = np.array([[1.002, 0.999, -3.001], [3.001, 3.000, 0.001], [2.000, 1.999, -1.000]])\n",
        "\n",
        "b7a = np.array([1, 2, 3])\n",
        "b7b = np.array([0, 1, 1])\n",
        "b7c = np.array([1, 1, 1])\n",
        "\n",
        "solution_7a = np.linalg.solve(A7, b7a)\n",
        "solution_7b = np.linalg.solve(A7, b7b)\n",
        "solution_7c = np.linalg.solve(A7, b7c)\n",
        "\n",
        "solution_7a, solution_7b, solution_7c\n"
      ],
      "metadata": {
        "colab": {
          "base_uri": "https://localhost:8080/"
        },
        "id": "zSILhV77t-GT",
        "outputId": "8e53408e-8d18-40e3-9ecd-af4c18f5c850"
      },
      "execution_count": 9,
      "outputs": [
        {
          "output_type": "execute_result",
          "data": {
            "text/plain": [
              "(array([-2.80088133e+03,  2.80248249e+03, -2.60016150e+00]),\n",
              " array([-8.00480288e+02,  8.01080648e+02, -6.00360216e-01]),\n",
              " array([-200.32019212,  200.72043226,   -0.40024014]))"
            ]
          },
          "metadata": {},
          "execution_count": 9
        }
      ]
    }
  ]
}