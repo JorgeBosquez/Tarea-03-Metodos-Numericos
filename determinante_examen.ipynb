{
  "nbformat": 4,
  "nbformat_minor": 0,
  "metadata": {
    "colab": {
      "provenance": [],
      "authorship_tag": "ABX9TyNZIHDcuTlNu2Woef7/5Qtg",
      "include_colab_link": true
    },
    "kernelspec": {
      "name": "python3",
      "display_name": "Python 3"
    },
    "language_info": {
      "name": "python"
    }
  },
  "cells": [
    {
      "cell_type": "markdown",
      "metadata": {
        "id": "view-in-github",
        "colab_type": "text"
      },
      "source": [
        "<a href=\"https://colab.research.google.com/github/JorgeBosquez/Tarea-03-Metodos-Numericos/blob/main/determinante_examen.ipynb\" target=\"_parent\"><img src=\"https://colab.research.google.com/assets/colab-badge.svg\" alt=\"Open In Colab\"/></a>"
      ]
    },
    {
      "cell_type": "code",
      "execution_count": 4,
      "metadata": {
        "colab": {
          "base_uri": "https://localhost:8080/"
        },
        "id": "YHxq5dE92Wfe",
        "outputId": "08619ec5-1f4e-4cbc-9ba2-9e9241279003"
      },
      "outputs": [
        {
          "output_type": "execute_result",
          "data": {
            "text/plain": [
              "9912776.000000013"
            ]
          },
          "metadata": {},
          "execution_count": 4
        }
      ],
      "source": [
        "from src import (\n",
        "    eliminacion_gaussiana,\n",
        "    descomposicion_LU,\n",
        "    resolver_LU,\n",
        "    matriz_aumentada,\n",
        "    separar_m_aumentada,\n",
        ")\n",
        "\n",
        "def descomposicion_LU(A):\n",
        "    \"\"\"Descompone la matriz A en una matriz L (triangular inferior)\n",
        "    y una matriz U (triangular superior).\n",
        "\n",
        "    ## Parameters\n",
        "    ``A``: Matriz cuadrada de tamaño n x n\n",
        "\n",
        "    ## Returns\n",
        "    ``L``: Matriz triangular inferior\n",
        "    ``U``: Matriz triangular superior\n",
        "    \"\"\"\n",
        "    n = len(A)\n",
        "    L = [[0.0] * n for _ in range(n)]\n",
        "    U = [[0.0] * n for _ in range(n)]\n",
        "\n",
        "    for i in range(n):\n",
        "        L[i][i] = 1.0\n",
        "        for j in range(i, n):\n",
        "            suma1 = sum(U[k][j] * L[i][k] for k in range(i))\n",
        "            U[i][j] = A[i][j] - suma1\n",
        "        for j in range(i+1, n):\n",
        "            suma2 = sum(U[k][i] * L[j][k] for k in range(i))\n",
        "            L[j][i] = (A[j][i] - suma2) / U[i][i]\n",
        "\n",
        "    return L, U\n",
        "\n",
        "def calc_determinante(A: list[list[float]]) -> float:\n",
        "    \"\"\"Función que calcula el determinante usando el método\n",
        "    Descomposición LU.\n",
        "\n",
        "    ## Parameters\n",
        "    ``A``: Matriz cuadrada de tamaño n x n\n",
        "\n",
        "    ## Return\n",
        "    ``detA``: Determinante de la matriz A\n",
        "\n",
        "    \"\"\"\n",
        "    L, U = descomposicion_LU(A)\n",
        "    detA = 1.0\n",
        "    for i in range(len(U)):\n",
        "        detA *= U[i][i]\n",
        "    return detA\n",
        "\n",
        "# Matriz de ejemplo A\n",
        "A = [\n",
        "    [-4, 2, -4, -4, 1, 2, 5, 3, 5, 1],\n",
        "    [1, 0, 4, 3, 0, -2, 3, 0, 1, 5],\n",
        "    [5, 5, -4, 5, -4, 2, 2, 2, 4, 4],\n",
        "    [-1, 3, 4, -1, -4, 0, 5, 0, 0, 5],\n",
        "    [4, 1, 4, 2, 0, 0, 3, -1, 0, 2],\n",
        "    [2, -2, 1, -1, -2, -3, 2, -2, 4, -1],\n",
        "    [3, -2, -3, -2, -1, -3, 5, -1, 5, 0],\n",
        "    [3, 4, -3, 3, -2, 2, -4, -4, 1, 5],\n",
        "    [-4, 0, 3, 3, -3, -2, -2, 0, 5, -4],\n",
        "    [-2, 4, 4, -2, -1, 1, 5, -1, 3, -3],\n",
        "]\n",
        "\n",
        "# Calcular el determinante de la matriz A\n",
        "det_A = calc_determinante(A)\n",
        "det_A\n"
      ]
    }
  ]
}