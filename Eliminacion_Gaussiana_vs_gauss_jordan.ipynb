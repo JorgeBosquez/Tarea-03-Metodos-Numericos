{
  "nbformat": 4,
  "nbformat_minor": 0,
  "metadata": {
    "colab": {
      "provenance": [],
      "authorship_tag": "ABX9TyNniKHc/sqkpgSynYym7rMx",
      "include_colab_link": true
    },
    "kernelspec": {
      "name": "python3",
      "display_name": "Python 3"
    },
    "language_info": {
      "name": "python"
    }
  },
  "cells": [
    {
      "cell_type": "markdown",
      "metadata": {
        "id": "view-in-github",
        "colab_type": "text"
      },
      "source": [
        "<a href=\"https://colab.research.google.com/github/JorgeBosquez/Tarea-03-Metodos-Numericos/blob/main/Eliminacion_Gaussiana_vs_gauss_jordan.ipynb\" target=\"_parent\"><img src=\"https://colab.research.google.com/assets/colab-badge.svg\" alt=\"Open In Colab\"/></a>"
      ]
    },
    {
      "cell_type": "markdown",
      "source": [
        "# CONJUNTO DE EJERCICIOS\n",
        "\n",
        "1. Para el siguiente sistema de ecuaciones lineales, obtenga, de ser posible, una solución con resultados gráficos.\n",
        "   \n",
        "   \\( x_1 + 2x_2 = 5 \\)  \n",
        "   \\( 3x_1 + 4x_2 = 6 \\)"
      ],
      "metadata": {
        "id": "on9E9P3vnj3R"
      }
    },
    {
      "cell_type": "code",
      "source": [
        "import numpy as np\n",
        "import matplotlib.pyplot as plt\n",
        "\n",
        "# Coeficientes del sistema\n",
        "A = np.array([[1, 2], [3, 4]])\n",
        "b = np.array([5, 6])\n",
        "\n",
        "# Resolver el sistema\n",
        "sol = np.linalg.solve(A, b)\n",
        "print(f\"Solución del sistema: x1 = {sol[0]}, x2 = {sol[1]}\")\n",
        "\n",
        "# Graficar las rectas\n",
        "x = np.linspace(0, 5, 100)\n",
        "y1 = (5 - x) / 2\n",
        "y2 = (6 - 3 * x) / 4\n",
        "\n",
        "plt.plot(x, y1, label=r'$x_1 + 2x_2 = 5$')\n",
        "plt.plot(x, y2, label=r'$3x_1 + 4x_2 = 6$')\n",
        "plt.plot(sol[0], sol[1], 'ro')  # Solución\n",
        "\n",
        "plt.xlabel(r'$x_1$')\n",
        "plt.ylabel(r'$x_2$')\n",
        "plt.legend()\n",
        "plt.grid(True)\n",
        "plt.show()\n"
      ],
      "metadata": {
        "colab": {
          "base_uri": "https://localhost:8080/",
          "height": 468
        },
        "id": "5Pixzbegn2II",
        "outputId": "606523dd-34fb-4a1e-c8d8-2caa25a48b1b"
      },
      "execution_count": 1,
      "outputs": [
        {
          "output_type": "stream",
          "name": "stdout",
          "text": [
            "Solución del sistema: x1 = -3.9999999999999987, x2 = 4.499999999999999\n"
          ]
        },
        {
          "output_type": "display_data",
          "data": {
            "text/plain": [
              "<Figure size 640x480 with 1 Axes>"
            ],
            "image/png": "[encoded data removed]"
          },
          "metadata": {}
        }
      ]
    },
    {
      "cell_type": "markdown",
      "source": [
        "2. Utilice el método de eliminación gaussiana con escalonamiento hacia atrás y anticipe el resultado de los siguientes pares de sistemas:\n",
        "   \n",
        "   **a)**  \n",
        "   \\( x_1 + 2x_2 + x_3 = 3 \\)  \n",
        "   \\( 3x_1 + 8x_2 + 4x_3 = 4 \\)  \n",
        "   \\( 2x_1 + 6x_2 + 3x_3 = 3 \\)\n",
        "\n",
        "   **b)**  \n",
        "   \\( 2x_1 - 3x_2 + 4x_3 = 7 \\)  \n",
        "   \\( 3x_1 + 2x_2 - 5x_3 = -3 \\)  \n",
        "   \\( x_1 + 4x_2 + x_3 = 8 \\)"
      ],
      "metadata": {
        "id": "eQkNaTymoGRY"
      }
    },
    {
      "cell_type": "code",
      "source": [
        "import numpy as np\n",
        "\n",
        "# Función para realizar eliminación gaussiana\n",
        "def gaussian_elimination(A, b):\n",
        "    A = A.astype(float)\n",
        "    b = b.astype(float)\n",
        "    n = len(b)\n",
        "\n",
        "    for i in range(n):\n",
        "        # Pivoteo parcial\n",
        "        max_row = np.argmax(np.abs(A[i:, i])) + i\n",
        "        if A[max_row, i] == 0:\n",
        "            raise ValueError(\"El sistema tiene filas linealmente dependientes y no tiene solución única.\")\n",
        "        A[[i, max_row]] = A[[max_row, i]]\n",
        "        b[[i, max_row]] = b[[max_row, i]]\n",
        "\n",
        "        # Eliminación hacia adelante\n",
        "        for j in range(i + 1, n):\n",
        "            ratio = A[j][i] / A[i][i]\n",
        "            A[j, i:] -= ratio * A[i, i:]\n",
        "            b[j] -= ratio * b[i]\n",
        "\n",
        "    # Sustitución hacia atrás\n",
        "    x = np.zeros(n)\n",
        "    for i in range(n - 1, -1, -1):\n",
        "        x[i] = (b[i] - np.dot(A[i, i + 1:], x[i + 1:])) / A[i, i]\n",
        "\n",
        "    return x\n",
        "\n",
        "# Ejercicio 2a\n",
        "A1 = np.array([[1, 2, 1], [3, 8, 4], [2, 6, 3]], dtype=float)\n",
        "b1 = np.array([3, 4, 3], dtype=float)\n",
        "\n",
        "try:\n",
        "    sol1 = gaussian_elimination(A1, b1)\n",
        "    print(f\"Solución del sistema 2a: x1 = {sol1[0]}, x2 = {sol1[1]}, x3 = {sol1[2]}\")\n",
        "except ValueError as e:\n",
        "    print(f\"Error en el sistema 2a: {e}\")\n",
        "\n",
        "# Ejercicio 2b\n",
        "A2 = np.array([[2, -3, 4], [3, 2, -5], [1, 4, 1]], dtype=float)\n",
        "b2 = np.array([7, -3, 8], dtype=float)\n",
        "\n",
        "try:\n",
        "    sol2 = gaussian_elimination(A2, b2)\n",
        "    print(f\"Solución del sistema 2b: x1 = {sol2[0]}, x2 = {sol2[1]}, x3 = {sol2[2]}\")\n",
        "except ValueError as e:\n",
        "    print(f\"Error en el sistema 2b: {e}\")\n"
      ],
      "metadata": {
        "colab": {
          "base_uri": "https://localhost:8080/"
        },
        "id": "24sx_dJyoHZQ",
        "outputId": "cc8676b5-2ecb-4ac8-dd0c-4c01fcb12eb4"
      },
      "execution_count": 3,
      "outputs": [
        {
          "output_type": "stream",
          "name": "stdout",
          "text": [
            "Error en el sistema 2a: El sistema tiene filas linealmente dependientes y no tiene solución única.\n",
            "Solución del sistema 2b: x1 = 1.4166666666666667, x2 = 1.1666666666666663, x3 = 1.9166666666666665\n"
          ]
        }
      ]
    },
    {
      "cell_type": "markdown",
      "source": [
        "3. Utilice el algoritmo de eliminación gaussiana para resolver, de ser posible, los siguientes sistemas lineales, y discuta la naturaleza del resultado:\n",
        "   \n",
        "   **a)**  \n",
        "   \\( x_1 + 3x_2 - x_3 = 7 \\)  \n",
        "   \\( 2x_1 + 6x_2 - x_3 = 4 \\)  \n",
        "   \\( x_1 - x_2 + x_3 = 2 \\)\n",
        "\n",
        "   **b)**  \n",
        "   \\( 4x_1 - 2x_2 + 3x_3 = 8 \\)  \n",
        "   \\( 3x_1 + x_2 - 2x_3 = 1 \\)  \n",
        "   \\( 2x_1 + 4x_2 + 3x_3 = 9 \\)"
      ],
      "metadata": {
        "id": "ZI1WNec_ovQY"
      }
    },
    {
      "cell_type": "code",
      "source": [
        "# Ejercicio 3a\n",
        "A3a = np.array([[1, 3, -1], [2, 6, -1], [1, -1, 1]], dtype=float)\n",
        "b3a = np.array([7, 4, 2], dtype=float)\n",
        "sol3a = gaussian_elimination(A3a, b3a)\n",
        "print(f\"Solución del sistema 3a: x1 = {sol3a[0]}, x2 = {sol3a[1]}, x3 = {sol3a[2]}\")\n",
        "\n",
        "# Ejercicio 3b\n",
        "A3b = np.array([[4, -2, 3], [3, 1, -2], [2, 4, 3]], dtype=float)\n",
        "b3b = np.array([8, 1, 9], dtype=float)\n",
        "sol3b = gaussian_elimination(A3b, b3b)\n",
        "print(f\"Solución del sistema 3b: x1 = {sol3b[0]}, x2 = {sol3b[1]}, x3 = {sol3b[2]}\")\n"
      ],
      "metadata": {
        "colab": {
          "base_uri": "https://localhost:8080/"
        },
        "id": "IcuOORCao2Rn",
        "outputId": "94e3da8f-ea9c-449f-b9c2-035ea7363714"
      },
      "execution_count": 4,
      "outputs": [
        {
          "output_type": "stream",
          "name": "stdout",
          "text": [
            "Solución del sistema 3a: x1 = 8.25, x2 = -3.75, x3 = -10.0\n",
            "Solución del sistema 3b: x1 = 1.15, x2 = 0.55, x3 = 1.5\n"
          ]
        }
      ]
    },
    {
      "cell_type": "markdown",
      "source": [
        "4. Utilice el algoritmo de eliminación gaussiana y la sustitución consecuente para predecir, de ser posible, los valores de los incógnitas del siguiente sistema:\n",
        "   \n",
        "   \\( 2x_1 + x_2 + 3x_3 = 9 \\)  \n",
        "   \\( x_1 + 4x_2 - x_3 = 1 \\)  \n",
        "   \\( 3x_1 + x_2 + 4x_3 = 8 \\)\n",
        "\n",
        "   **a)**  \n",
        "   \\( 2x_1 + 4x_2 - x_3 = 1 \\)  \n",
        "   \\( 3x_1 + x_2 + 4x_3 = 8 \\)  \n",
        "   \\( 6x_1 + 8x_2 - x_3 = 2 \\)"
      ],
      "metadata": {
        "id": "YtH69nSwo7a2"
      }
    },
    {
      "cell_type": "code",
      "source": [
        "# Ejercicio 4\n",
        "A4 = np.array([[2, 1, 3], [1, 4, -1], [3, 1, 4]], dtype=float)\n",
        "b4 = np.array([9, 1, 8], dtype=float)\n",
        "sol4 = gaussian_elimination(A4, b4)\n",
        "print(f\"Solución del sistema 4: x1 = {sol4[0]}, x2 = {sol4[1]}, x3 = {sol4[2]}\")\n",
        "\n",
        "# Ejercicio 4a\n",
        "A4a = np.array([[2, 4, -1], [3, 1, 4], [6, 8, -1]], dtype=float)\n",
        "b4a = np.array([1, 8, 2], dtype=float)\n",
        "sol4a = gaussian_elimination(A4a, b4a)\n",
        "print(f\"Solución del sistema 4a: x1 = {sol4a[0]}, x2 = {sol4a[1]}, x3 = {sol4a[2]}\")\n"
      ],
      "metadata": {
        "colab": {
          "base_uri": "https://localhost:8080/"
        },
        "id": "G3Mp5uE1pASQ",
        "outputId": "aa9736f1-6006-46d9-ff3e-8d78440b7436"
      },
      "execution_count": 5,
      "outputs": [
        {
          "output_type": "stream",
          "name": "stdout",
          "text": [
            "Solución del sistema 4: x1 = -7.999999999999997, x2 = 3.999999999999999, x3 = 6.999999999999998\n",
            "Solución del sistema 4a: x1 = -1.2916666666666667, x2 = 1.5416666666666667, x3 = 2.5833333333333335\n"
          ]
        }
      ]
    },
    {
      "cell_type": "markdown",
      "source": [
        "5. Diagonalice el sistema lineal:\n",
        "   \n",
        "   \\( x' = Ax \\)  \n",
        "   \\( A = \\begin{pmatrix} -2 & -4 \\\\ 3 & 5 \\end{pmatrix} \\)\n"
      ],
      "metadata": {
        "id": "WVFTHOeipE8H"
      }
    },
    {
      "cell_type": "code",
      "source": [
        "# Ejercicio 5\n",
        "A5 = np.array([[-2, -4], [3, 5]], dtype=float)\n",
        "eigenvalues, eigenvectors = np.linalg.eig(A5)\n",
        "print(f\"Valores propios: {eigenvalues}\")\n",
        "print(f\"Vectores propios: \\n{eigenvectors}\")\n"
      ],
      "metadata": {
        "colab": {
          "base_uri": "https://localhost:8080/"
        },
        "id": "Jc7EK46DpI3X",
        "outputId": "c2b9166d-9eeb-43c2-8f36-0ccf6f13131e"
      },
      "execution_count": 6,
      "outputs": [
        {
          "output_type": "stream",
          "name": "stdout",
          "text": [
            "Valores propios: [1. 2.]\n",
            "Vectores propios: \n",
            "[[-0.8         0.70710678]\n",
            " [ 0.6        -0.70710678]]\n"
          ]
        }
      ]
    },
    {
      "cell_type": "markdown",
      "source": [
        "6. Encuentre el valor propio de A que satisface las siguientes condiciones:  \n",
        "   \n",
        "   **a)** La parte real del valor propio es igual al determinante de la matriz de coeficientes.  \n",
        "   **b)** La parte imaginaria del valor propio es igual al trazo de la matriz de coeficientes.\n",
        "\n"
      ],
      "metadata": {
        "id": "eqbNGLBrpOih"
      }
    },
    {
      "cell_type": "code",
      "source": [
        "# Ejercicio 6\n",
        "det_A5 = np.linalg.det(A5)\n",
        "trace_A5 = np.trace(A5)\n",
        "\n",
        "print(f\"Determinante de A: {det_A5}\")\n",
        "print(f\"Traza de A: {trace_A5}\")\n"
      ],
      "metadata": {
        "colab": {
          "base_uri": "https://localhost:8080/"
        },
        "id": "L4AmZ4ripWVo",
        "outputId": "954dd82b-d0a6-4860-92f7-0af5ebd657af"
      },
      "execution_count": 7,
      "outputs": [
        {
          "output_type": "stream",
          "name": "stdout",
          "text": [
            "Determinante de A: 2.000000000000001\n",
            "Traza de A: 3.0\n"
          ]
        }
      ]
    },
    {
      "cell_type": "markdown",
      "source": [
        "# EJERCICIOS APLICADOS\n",
        "7. A partir de un modelo se han identificado algunos conjuntos de entradas y sus fuentes de referencia, y B representa la matriz de coeficientes de entradas, mientras que X es la matriz de coeficientes de salidas. Utilice el método de eliminación gaussiana para determinar la capacidad del sistema para satisfacer las salidas:\n",
        "\n",
        "   \\( X = \\begin{pmatrix} 1000 \\\\ 500 \\\\ 250 \\\\ 400 \\end{pmatrix} \\)  \n",
        "   \\( B = \\begin{pmatrix} 250 \\\\ 750 \\\\ 500 \\end{pmatrix} \\)\n",
        "\n",
        "   **a)**  \n",
        "   \\[ \\begin{pmatrix} 2 & 3 & 1 \\\\ 1 & 2 & 3 \\\\ 2 & 1 & 2 \\end{pmatrix} \\]"
      ],
      "metadata": {
        "id": "oZDkqVBapaGA"
      }
    },
    {
      "cell_type": "code",
      "source": [
        "# Ejercicio 7\n",
        "X7 = np.array([1000, 500, 250, 400], dtype=float)\n",
        "B7 = np.array([250, 750, 500], dtype=float)\n",
        "A7 = np.array([[2, 3, 1], [1, 2, 3], [2, 1, 2]], dtype=float)\n",
        "\n",
        "sol7 = np.linalg.solve(A7, B7)\n",
        "print(f\"Solución del sistema 7: {sol7}\")\n"
      ],
      "metadata": {
        "colab": {
          "base_uri": "https://localhost:8080/"
        },
        "id": "WO_Fkj1Gpk22",
        "outputId": "65e7dc20-ff4d-4c73-a404-5d1d1b0ac29b"
      },
      "execution_count": 8,
      "outputs": [
        {
          "output_type": "stream",
          "name": "stdout",
          "text": [
            "Solución del sistema 7: [  0.  -0. 250.]\n"
          ]
        }
      ]
    },
    {
      "cell_type": "markdown",
      "source": [
        "\n",
        "# EJERCICIOS TEÓRICOS\n",
        "\n",
        "8. Explica el proceso de resolución usando el método de Gauss-Jordan."
      ],
      "metadata": {
        "id": "zC6fPlKkpyS-"
      }
    },
    {
      "cell_type": "markdown",
      "source": [
        "El método de Gauss-Jordan es una extensión del método de eliminación gaussiana y se utiliza para encontrar la solución de un sistema de ecuaciones lineales. El objetivo del método es transformar la matriz aumentada del sistema en una forma reducida por filas mediante una serie de operaciones elementales de fila.\n",
        "\n",
        "1. **Formación de la matriz aumentada**: Se forma la matriz aumentada [A|b] del sistema de ecuaciones.\n",
        "\n",
        "2. **Eliminación hacia adelante**: Se realizan operaciones elementales de fila para convertir la matriz aumentada en una forma triangular superior. Este paso es similar a la eliminación gaussiana.\n",
        "\n",
        "3. **Eliminación hacia atrás**: Se continúa con las operaciones elementales de fila para convertir la matriz en la forma escalonada reducida por filas. Esto implica hacer ceros no solo por debajo sino también por encima de los pivotes.\n",
        "\n",
        "4. **Solución**: Una vez que la matriz está en la forma escalonada reducida por filas, las soluciones del sistema se leen directamente.\n",
        "\n",
        "Este método no solo encuentra las soluciones del sistema si existen, sino que también puede determinar si el sistema tiene infinitas soluciones o ninguna solución.\n",
        "\n",
        "Un ejemplo del método de Gauss-Jordan es transformar la matriz aumentada de un sistema de ecuaciones \\( A \\) en la matriz identidad y ajustar el vector de soluciones en consecuencia.\n"
      ],
      "metadata": {
        "id": "RVcjXiGGp1te"
      }
    }
  ]
}