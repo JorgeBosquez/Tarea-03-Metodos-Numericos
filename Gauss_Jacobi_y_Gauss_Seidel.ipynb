{
  "nbformat": 4,
  "nbformat_minor": 0,
  "metadata": {
    "colab": {
      "provenance": [],
      "authorship_tag": "ABX9TyORSCh78JgDEsg0jNhDMPEt",
      "include_colab_link": true
    },
    "kernelspec": {
      "name": "python3",
      "display_name": "Python 3"
    },
    "language_info": {
      "name": "python"
    }
  },
  "cells": [
    {
      "cell_type": "markdown",
      "metadata": {
        "id": "view-in-github",
        "colab_type": "text"
      },
      "source": [
        "<a href=\"https://colab.research.google.com/github/JorgeBosquez/Tarea-03-Metodos-Numericos/blob/main/Gauss_Jacobi_y_Gauss_Seidel.ipynb\" target=\"_parent\"><img src=\"https://colab.research.google.com/assets/colab-badge.svg\" alt=\"Open In Colab\"/></a>"
      ]
    },
    {
      "cell_type": "markdown",
      "source": [
        "# CONJUNTO DE EJERCICIOS\n",
        "\n",
        "1. Encuentre las primeras dos iteraciones del método de Jacobi para los siguientes sistemas lineales, partiendo de \\( x^{(0)} = 0 \\):\n",
        "    a. \\[\n",
        "        \n",
        "            3x_1 + x_2 = 1,\n",
        "            2x_1 + 4x_2 = 2.\n",
        "        \n",
        "    \\]\n",
        "    b. \\[\n",
        "       \n",
        "            10x_1 - x_2 = 9,\n",
        "            -x_1 + 10x_2 = 7.\n",
        "     \n",
        "    \\]\n",
        "    c. \\[\n",
        "      \n",
        "            3x_1 + 3x_2 + 7x_3 = 3,\n",
        "            5x_1 + 2x_2 + 2x_3 = 6,\n",
        "            7x_1 + 6x_2 + 3x_3 = 10.\n",
        "        \n",
        "    \\]\n",
        "    d. \\[\n",
        "        \n",
        "            7x_1 + x_2 - 2x_3 = 3,\n",
        "            4x_1 - 5x_2 + x_3 = 3,\n",
        "            -2x_1 + 3x_2 + 8x_3 = 5.\n",
        "     \n",
        "    \\]\n",
        "    e. \\[\n",
        "    \n",
        "            25x_1 + 2x_2 + x_3 = 25,\n",
        "            x_1 + 20x_2 - 2x_3 = -10,\n",
        "            x_1 + x_2 + 20x_3 = -50.\n",
        "     \n",
        "    \\]"
      ],
      "metadata": {
        "id": "LbJDKe4NwWWQ"
      }
    },
    {
      "cell_type": "code",
      "source": [
        "import numpy as np\n",
        "\n",
        "def jacobi(A, b, x0, tol, max_iter):\n",
        "    n = len(A)\n",
        "    x = x0.copy()\n",
        "    x_new = np.zeros_like(x0)\n",
        "\n",
        "    for _ in range(max_iter):\n",
        "        for i in range(n):\n",
        "            s1 = sum(A[i][j] * x[j] for j in range(n) if j != i)\n",
        "            x_new[i] = (b[i] - s1) / A[i][i]\n",
        "\n",
        "        if np.linalg.norm(x_new - x) < tol:\n",
        "            break\n",
        "\n",
        "        x = x_new.copy()\n",
        "\n",
        "    return x_new\n",
        "\n",
        "# Definir el sistema de ecuaciones a resolver\n",
        "A = np.array([[3, 1], [1, 2]])\n",
        "b = np.array([5, 5])\n",
        "x0 = np.zeros_like(b)\n",
        "tol = 1e-10\n",
        "max_iter = 3\n",
        "\n",
        "# Resolver usando el método de Jacobi\n",
        "x_jacobi = jacobi(A, b, x0, tol, max_iter)\n",
        "print(\"Solución usando Jacobi:\", x_jacobi)\n"
      ],
      "metadata": {
        "colab": {
          "base_uri": "https://localhost:8080/"
        },
        "id": "3sgQ7uiOxJlU",
        "outputId": "1bf28d52-54df-418d-aa2b-75101730a838"
      },
      "execution_count": 1,
      "outputs": [
        {
          "output_type": "stream",
          "name": "stdout",
          "text": [
            "Solución usando Jacobi: [1 2]\n"
          ]
        }
      ]
    },
    {
      "cell_type": "markdown",
      "source": [
        "2. Repita el ejercicio 1 usando el método de Gauss-Seidel."
      ],
      "metadata": {
        "id": "WBwKyb3axNSY"
      }
    },
    {
      "cell_type": "code",
      "source": [
        "def gauss_seidel(A, b, x0, tol, max_iter):\n",
        "    n = len(A)\n",
        "    x = x0.copy()\n",
        "\n",
        "    for _ in range(max_iter):\n",
        "        x_new = x.copy()\n",
        "\n",
        "        for i in range(n):\n",
        "            s1 = sum(A[i][j] * x_new[j] for j in range(i))\n",
        "            s2 = sum(A[i][j] * x[j] for j in range(i + 1, n))\n",
        "            x_new[i] = (b[i] - s1 - s2) / A[i][i]\n",
        "\n",
        "        if np.linalg.norm(x_new - x) < tol:\n",
        "            break\n",
        "\n",
        "        x = x_new.copy()\n",
        "\n",
        "    return x\n",
        "\n",
        "# Resolver usando el método de Gauss-Seidel\n",
        "x_gauss_seidel = gauss_seidel(A, b, x0, tol, max_iter)\n",
        "print(\"Solución usando Gauss-Seidel:\", x_gauss_seidel)\n"
      ],
      "metadata": {
        "colab": {
          "base_uri": "https://localhost:8080/"
        },
        "id": "421XdsQUxSg3",
        "outputId": "e02e6ede-51b9-46da-a8bd-de86d161faac"
      },
      "execution_count": 2,
      "outputs": [
        {
          "output_type": "stream",
          "name": "stdout",
          "text": [
            "Solución usando Gauss-Seidel: [1 2]\n"
          ]
        }
      ]
    },
    {
      "cell_type": "markdown",
      "source": [
        "3. Utilice el método de Gauss-Seidel para resolver los sistemas lineales en el ejercicio 1, con \\( TOL = 10^{-3} \\)."
      ],
      "metadata": {
        "id": "seJLU-NMxVUS"
      }
    },
    {
      "cell_type": "code",
      "source": [
        "import numpy as np\n",
        "\n",
        "def jacobi(A, b, x0, tol, max_iter):\n",
        "    n = len(A)\n",
        "    x = x0.copy()\n",
        "    x_new = np.zeros_like(x0)\n",
        "\n",
        "    for _ in range(max_iter):\n",
        "        for i in range(n):\n",
        "            s1 = sum(A[i][j] * x[j] for j in range(n) if j != i)\n",
        "            x_new[i] = (b[i] - s1) / A[i][i]\n",
        "\n",
        "        if np.linalg.norm(x_new - x) < tol:\n",
        "            break\n",
        "\n",
        "        x = x_new.copy()\n",
        "\n",
        "    return x_new\n",
        "\n",
        "# Sistema de ecuaciones\n",
        "A3 = np.array([[2, 1], [5, 7]])\n",
        "b3 = np.array([3, 19])\n",
        "x0 = np.zeros_like(b3)\n",
        "tol = 1e-10\n",
        "max_iter = 25\n",
        "\n",
        "# Resolver usando el método de Jacobi\n",
        "x_jacobi_3 = jacobi(A3, b3, x0, tol, max_iter)\n",
        "print(\"Solución usando Jacobi para Ejercicio 3:\", x_jacobi_3)\n"
      ],
      "metadata": {
        "colab": {
          "base_uri": "https://localhost:8080/"
        },
        "id": "rlgwAWKrxayw",
        "outputId": "92f9bb11-50c0-4d08-a33e-2c64ffc983ea"
      },
      "execution_count": 3,
      "outputs": [
        {
          "output_type": "stream",
          "name": "stdout",
          "text": [
            "Solución usando Jacobi para Ejercicio 3: [0 2]\n"
          ]
        }
      ]
    },
    {
      "cell_type": "markdown",
      "source": [
        "4. Utilice el método de Jacobi para resolver los sistemas lineales en el ejercicio 1, con \\( TOL = 10^{-3} \\)."
      ],
      "metadata": {
        "id": "Y3qWs_Prx_JJ"
      }
    },
    {
      "cell_type": "code",
      "source": [
        "def gauss_seidel(A, b, x0, tol, max_iter):\n",
        "    n = len(A)\n",
        "    x = x0.copy()\n",
        "\n",
        "    for _ in range(max_iter):\n",
        "        x_new = x.copy()\n",
        "\n",
        "        for i in range(n):\n",
        "            s1 = sum(A[i][j] * x_new[j] for j in range(i))\n",
        "            s2 = sum(A[i][j] * x[j] for j in range(i + 1, n))\n",
        "            x_new[i] = (b[i] - s1 - s2) / A[i][i]\n",
        "\n",
        "        if np.linalg.norm(x_new - x) < tol:\n",
        "            break\n",
        "\n",
        "        x = x_new.copy()\n",
        "\n",
        "    return x\n",
        "\n",
        "# Resolver usando el método de Gauss-Seidel\n",
        "x_gauss_seidel_4 = gauss_seidel(A3, b3, x0, tol, max_iter)\n",
        "print(\"Solución usando Gauss-Seidel para Ejercicio 4:\", x_gauss_seidel_4)\n"
      ],
      "metadata": {
        "colab": {
          "base_uri": "https://localhost:8080/"
        },
        "id": "V1as_CcKyBtv",
        "outputId": "5868a8d3-c66b-4a54-e221-5477ac104fd4"
      },
      "execution_count": 4,
      "outputs": [
        {
          "output_type": "stream",
          "name": "stdout",
          "text": [
            "Solución usando Gauss-Seidel para Ejercicio 4: [0 2]\n"
          ]
        }
      ]
    },
    {
      "cell_type": "markdown",
      "source": [
        "5. El siguiente sistema lineal \\[\n",
        "    \\begin{cases}\n",
        "        2x_1 + 2y_1 + z_1 = 4, \\\\\n",
        "        2x_2 + 3y_2 + z_2 = 5, \\\\\n",
        "        2x_3 + y_3 + 4z_3 = 6.\n",
        "    \\end{cases}\n",
        "\\] tiene solución \\( (x_1, x_2, x_3) = (1, 1, 1) \\).\n",
        "\n",
        "    a. Muestre que el método de Jacobi con \\( x^{(0)} = [0 0 0]^T \\) proporciona una buena aproximación después de 3 iteraciones.\n",
        "\n",
        "    b. Utilice el método de Gauss-Seidel con \\( x^{(0)} = [0 0 0]^T \\) para aproximar la solución para el sistema lineal descrito en 5.\n"
      ],
      "metadata": {
        "id": "uzHEFtu6yEcv"
      }
    },
    {
      "cell_type": "code",
      "source": [
        "import numpy as np\n",
        "\n",
        "def jacobi(A, b, x0, tol, max_iter):\n",
        "    n = len(A)\n",
        "    x = x0.copy()\n",
        "    x_new = np.zeros_like(x0)\n",
        "\n",
        "    for _ in range(max_iter):\n",
        "        for i in range(n):\n",
        "            s1 = sum(A[i][j] * x[j] for j in range(n) if j != i)\n",
        "            x_new[i] = (b[i] - s1) / A[i][i]\n",
        "\n",
        "        if np.linalg.norm(x_new - x) < tol:\n",
        "            break\n",
        "\n",
        "        x = x_new.copy()\n",
        "\n",
        "    return x_new\n",
        "\n",
        "def gauss_seidel(A, b, x0, tol, max_iter):\n",
        "    n = len(A)\n",
        "    x = x0.copy()\n",
        "\n",
        "    for _ in range(max_iter):\n",
        "        x_new = x.copy()\n",
        "\n",
        "        for i in range(n):\n",
        "            s1 = sum(A[i][j] * x_new[j] for j in range(i))\n",
        "            s2 = sum(A[i][j] * x[j] for j in range(i + 1, n))\n",
        "            x_new[i] = (b[i] - s1 - s2) / A[i][i]\n",
        "\n",
        "        if np.linalg.norm(x_new - x) < tol:\n",
        "            break\n",
        "\n",
        "        x = x_new.copy()\n",
        "\n",
        "    return x\n",
        "\n",
        "# Sistema de ecuaciones\n",
        "A5 = np.array([[2, -1, 1], [2, 2, 2], [-1, -1, 2]])\n",
        "b5 = np.array([-1, 4, -5])\n",
        "x0 = np.zeros_like(b5)\n",
        "tol = 1e-5\n",
        "max_iter = 25\n",
        "\n",
        "# Parte a) Método de Jacobi\n",
        "x_jacobi_5 = jacobi(A5, b5, x0, tol, max_iter)\n",
        "print(\"Solución usando Jacobi para Ejercicio 5(a):\", x_jacobi_5)\n",
        "\n",
        "# Parte b) Método de Gauss-Seidel\n",
        "x_gauss_seidel_5 = gauss_seidel(A5, b5, x0, tol, max_iter)\n",
        "print(\"Solución usando Gauss-Seidel para Ejercicio 5(b):\", x_gauss_seidel_5)\n",
        "\n"
      ],
      "metadata": {
        "colab": {
          "base_uri": "https://localhost:8080/"
        },
        "id": "PEE4NOhUyMwp",
        "outputId": "aeaab26f-4a82-4fcd-ee16-69e433872488"
      },
      "execution_count": 6,
      "outputs": [
        {
          "output_type": "stream",
          "name": "stdout",
          "text": [
            "Solución usando Jacobi para Ejercicio 5(a): [ 0  2 -2]\n",
            "Solución usando Gauss-Seidel para Ejercicio 5(b): [ 1  2 -1]\n"
          ]
        }
      ]
    },
    {
      "cell_type": "markdown",
      "source": [
        "### Ejercicio 6: Sistema Lineal\n",
        "\n",
        "El sistema lineal dado es:\n",
        "\n",
        "\\[\n",
        "\\begin{cases}\n",
        "x_1 - x_3 = 0.2 \\\\\n",
        "-\\frac{1}{2}x_1 + x_2 - \\frac{1}{4}x_3 = -1.425 \\\\\n",
        "x_1 + \\frac{1}{2}x_2 + x_3 = 2\n",
        "\\end{cases}\n",
        "\\]\n",
        "\n",
        "Tiene la solución \\((0.9, -0.8, 0.7)\\).\n",
        "\n",
        "#### a) ¿La matriz de coeficientes tiene diagonal estrictamente dominante?\n",
        "\n",
        "La matriz de coeficientes es:\n",
        "\n",
        "\\[\n",
        "A = \\begin{pmatrix}\n",
        "1 & 0 & -1 \\\\\n",
        "-\\frac{1}{2} & 1 & -\\frac{1}{4} \\\\\n",
        "1 & \\frac{1}{2} & 1\n",
        "\\end{pmatrix}\n",
        "\\]\n",
        "\n",
        "Verificamos si esta matriz es diagonal estrictamente dominante.\n",
        "\n",
        "#### b) Utilice el método iterativo de Gauss-Seidel para aproximar la solución para el sistema lineal con una tolerancia de \\(10^{-2}\\) y un máximo de 300 iteraciones.\n",
        "\n",
        "#### c) ¿Qué pasa en la parte b) cuando el sistema cambia por el siguiente?"
      ],
      "metadata": {
        "id": "13E_DGd1yuOI"
      }
    },
    {
      "cell_type": "code",
      "source": [
        "import numpy as np\n",
        "\n",
        "# Definición de la matriz A y el vector b\n",
        "A6 = np.array([[1, 0, -1],\n",
        "               [-0.5, 1, -0.25],\n",
        "               [1, 0.5, 1]])\n",
        "\n",
        "b6 = np.array([0.2, -1.425, 2])\n",
        "x0 = np.zeros_like(b6)\n",
        "tol = 1e-2\n",
        "max_iter = 300\n",
        "\n",
        "# Función para verificar si una matriz es diagonal estrictamente dominante\n",
        "def is_strictly_diagonally_dominant(A):\n",
        "    for i in range(len(A)):\n",
        "        sum_row = sum(abs(A[i][j]) for j in range(len(A)) if j != i)\n",
        "        if abs(A[i][i]) <= sum_row:\n",
        "            return False\n",
        "    return True\n",
        "\n",
        "# Parte a)\n",
        "print(\"La matriz de coeficientes es diagonal estrictamente dominante:\", is_strictly_diagonally_dominant(A6))\n",
        "\n",
        "# Parte b) Método de Gauss-Seidel\n",
        "def gauss_seidel(A, b, x0, tol, max_iter):\n",
        "    n = len(A)\n",
        "    x = x0.copy()\n",
        "\n",
        "    for _ in range(max_iter):\n",
        "        x_new = x.copy()\n",
        "\n",
        "        for i in range(n):\n",
        "            s1 = sum(A[i][j] * x_new[j] for j in range(i))\n",
        "            s2 = sum(A[i][j] * x[j] for j in range(i + 1, n))\n",
        "            x_new[i] = (b[i] - s1 - s2) / A[i][i]\n",
        "\n",
        "        if np.linalg.norm(x_new - x) < tol:\n",
        "            return x_new\n",
        "\n",
        "        x = x_new.copy()\n",
        "\n",
        "    return x\n",
        "\n",
        "x_gauss_seidel_6 = gauss_seidel(A6, b6, x0, tol, max_iter)\n",
        "print(\"Solución usando Gauss-Seidel para Ejercicio 6(b):\", x_gauss_seidel_6)\n",
        "\n",
        "# Parte c) Cambio en el sistema\n",
        "A6_c = np.array([[1, 0, -2],\n",
        "                 [0.5, 1, -0.25],\n",
        "                 [1, 0.5, 1]])\n",
        "\n",
        "x_gauss_seidel_6_c = gauss_seidel(A6_c, b6, x0, tol, max_iter)\n",
        "print(\"Solución usando Gauss-Seidel para Ejercicio 6(c):\", x_gauss_seidel_6_c)\n"
      ],
      "metadata": {
        "colab": {
          "base_uri": "https://localhost:8080/"
        },
        "id": "ca9sdrLTzh1X",
        "outputId": "d1650bcf-ef37-4dc6-eb59-9c3e0ff48f28"
      },
      "execution_count": 7,
      "outputs": [
        {
          "output_type": "stream",
          "name": "stdout",
          "text": [
            "La matriz de coeficientes es diagonal estrictamente dominante: False\n",
            "Solución usando Gauss-Seidel para Ejercicio 6(b): [ 2.33463707e+41  1.75097780e+41 -3.21012597e+41]\n",
            "Solución usando Gauss-Seidel para Ejercicio 6(c): [ 2.16631093e+63 -8.12366599e+62 -1.76012763e+63]\n"
          ]
        }
      ]
    },
    {
      "cell_type": "markdown",
      "source": [
        "# Ejercicio 8\n",
        "\n",
        "Un cable coaxial está formado por un conductor interno de 0.1 pulgadas cuadradas y un conductor externo de 0.5 pulgadas cuadradas. El potencial en un punto en la sección transversal del cable se describe mediante la ecuación de Laplace.\n",
        "\n",
        "Suponga que el conductor interno se mantiene en 0 volts y el conductor externo se mantiene en 110 volts. Aproximar el potencial entre los dos conductores requiere resolver el siguiente sistema lineal.\n",
        "\n",
        "\\[\n",
        "\\begin{pmatrix}\n",
        "  4 & -1 & 0 & 0 & 0 & 0 & -1 & 0 & 0 & 0 & 0 & 0 \\\\\n",
        "  -1 & 4 & -1 & 0 & 0 & 0 & 0 & -1 & 0 & 0 & 0 & 0 \\\\\n",
        "  0 & -1 & 4 & -1 & 0 & 0 & 0 & 0 & -1 & 0 & 0 & 0 \\\\\n",
        "  0 & 0 & -1 & 4 & -1 & 0 & 0 & 0 & 0 & -1 & 0 & 0 \\\\\n",
        "  0 & 0 & 0 & -1 & 4 & -1 & 0 & 0 & 0 & 0 & -1 & 0 \\\\\n",
        "  0 & 0 & 0 & 0 & -1 & 4 & 0 & 0 & 0 & 0 & 0 & -1 \\\\\n",
        "  -1 & 0 & 0 & 0 & 0 & 0 & 4 & -1 & 0 & 0 & 0 & 0 \\\\\n",
        "  0 & -1 & 0 & 0 & 0 & 0 & -1 & 4 & -1 & 0 & 0 & 0 \\\\\n",
        "  0 & 0 & -1 & 0 & 0 & 0 & 0 & -1 & 4 & -1 & 0 & 0 \\\\\n",
        "  0 & 0 & 0 & -1 & 0 & 0 & 0 & 0 & -1 & 4 & -1 & 0 \\\\\n",
        "  0 & 0 & 0 & 0 & -1 & 0 & 0 & 0 & 0 & -1 & 4 & -1 \\\\\n",
        "  0 & 0 & 0 & 0 & 0 & -1 & 0 & 0 & 0 & 0 & -1 & 4\n",
        "\\end{pmatrix}\n",
        "\\begin{pmatrix}\n",
        "  w_1 \\\\\n",
        "  w_2 \\\\\n",
        "  w_3 \\\\\n",
        "  w_4 \\\\\n",
        "  w_5 \\\\\n",
        "  w_6 \\\\\n",
        "  w_7 \\\\\n",
        "  w_8 \\\\\n",
        "  w_9 \\\\\n",
        "  w_{10} \\\\\n",
        "  w_{11} \\\\\n",
        "  w_{12}\n",
        "\\end{pmatrix}\n",
        "=\n",
        "\\begin{pmatrix}\n",
        "  220 \\\\\n",
        "  110 \\\\\n",
        "  110 \\\\\n",
        "  110 \\\\\n",
        "  110 \\\\\n",
        "  220 \\\\\n",
        "  220 \\\\\n",
        "  110 \\\\\n",
        "  110 \\\\\n",
        "  110 \\\\\n",
        "  110 \\\\\n",
        "  220\n",
        "\\end{pmatrix}\n",
        "\\]\n",
        "\n",
        "### a. ¿La matriz es estrictamente diagonalmente dominante?\n",
        "\n",
        "### b. Resuelva el sistema lineal usando el método de Jacobi con \\( x^{(0)} = 0 \\) y \\( TOL = 10^{-2} \\).\n",
        "\n",
        "### c. Repita la parte b) mediante el método de Gauss-Seidel.\n"
      ],
      "metadata": {
        "id": "NEdFmPbw0TQ-"
      }
    },
    {
      "cell_type": "code",
      "source": [
        "import numpy as np\n",
        "\n",
        "# Definición de la matriz A y el vector b\n",
        "A = np.array([\n",
        "    [4, -1, 0, 0, 0, 0, -1, 0, 0, 0, 0, 0],\n",
        "    [-1, 4, -1, 0, 0, 0, 0, -1, 0, 0, 0, 0],\n",
        "    [0, -1, 4, -1, 0, 0, 0, 0, -1, 0, 0, 0],\n",
        "    [0, 0, -1, 4, -1, 0, 0, 0, 0, -1, 0, 0],\n",
        "    [0, 0, 0, -1, 4, -1, 0, 0, 0, 0, -1, 0],\n",
        "    [0, 0, 0, 0, -1, 4, 0, 0, 0, 0, 0, -1],\n",
        "    [-1, 0, 0, 0, 0, 0, 4, -1, 0, 0, 0, 0],\n",
        "    [0, -1, 0, 0, 0, 0, -1, 4, -1, 0, 0, 0],\n",
        "    [0, 0, -1, 0, 0, 0, 0, -1, 4, -1, 0, 0],\n",
        "    [0, 0, 0, -1, 0, 0, 0, 0, -1, 4, -1, 0],\n",
        "    [0, 0, 0, 0, -1, 0, 0, 0, 0, -1, 4, -1],\n",
        "    [0, 0, 0, 0, 0, -1, 0, 0, 0, 0, -1, 4]\n",
        "])\n",
        "\n",
        "b = np.array([220, 110, 110, 110, 110, 220, 220, 110, 110, 110, 110, 220])\n",
        "\n",
        "# Función para verificar si la matriz es estrictamente diagonalmente dominante\n",
        "def is_strictly_diagonally_dominant(A):\n",
        "    D = np.diag(np.abs(A))  # Diagonal de A\n",
        "    S = np.sum(np.abs(A), axis=1) - D  # Suma de los valores absolutos de los elementos no diagonales por fila\n",
        "    return np.all(D > S)\n",
        "\n",
        "print(\"La matriz es estrictamente diagonalmente dominante:\", is_strictly_diagonally_dominant(A))\n",
        "\n",
        "# Método de Jacobi\n",
        "def jacobi(A, b, x0, tol, max_iterations=1000):\n",
        "    D = np.diag(A)\n",
        "    R = A - np.diagflat(D)\n",
        "    x = x0\n",
        "    for i in range(max_iterations):\n",
        "        x_new = (b - np.dot(R, x)) / D\n",
        "        if np.linalg.norm(x_new - x) < tol:\n",
        "            return x_new\n",
        "        x = x_new\n",
        "    return x\n",
        "\n",
        "# Método de Gauss-Seidel\n",
        "def gauss_seidel(A, b, x0, tol, max_iterations=1000):\n",
        "    x = x0.copy()\n",
        "    n = len(b)\n",
        "    for k in range(max_iterations):\n",
        "        x_new = x.copy()\n",
        "        for i in range(n):\n",
        "            sum1 = sum(A[i][j] * x_new[j] for j in range(i))\n",
        "            sum2 = sum(A[i][j] * x[j] for j in range(i + 1, n))\n",
        "            x_new[i] = (b[i] - sum1 - sum2) / A[i][i]\n",
        "        if np.linalg.norm(x_new - x) < tol:\n",
        "            return x_new\n",
        "        x = x_new\n",
        "    return x\n",
        "\n",
        "# Parámetros iniciales\n",
        "x0 = np.zeros(len(b))\n",
        "tol = 1e-2\n",
        "\n",
        "# Solución utilizando el método de Jacobi\n",
        "x_jacobi = jacobi(A, b, x0, tol)\n",
        "print(\"Solución utilizando el método de Jacobi:\")\n",
        "print(x_jacobi)\n",
        "\n",
        "# Solución utilizando el método de Gauss-Seidel\n",
        "x_gauss_seidel = gauss_seidel(A, b, x0, tol)\n",
        "print(\"Solución utilizando el método de Gauss-Seidel:\")\n",
        "print(x_gauss_seidel)\n"
      ],
      "metadata": {
        "colab": {
          "base_uri": "https://localhost:8080/"
        },
        "id": "dGox5rX10VDw",
        "outputId": "60c5bff6-cc95-40f8-db0d-a9267faa3ff3"
      },
      "execution_count": 8,
      "outputs": [
        {
          "output_type": "stream",
          "name": "stdout",
          "text": [
            "La matriz es estrictamente diagonalmente dominante: True\n",
            "Solución utilizando el método de Jacobi:\n",
            "[109.99719807 109.9949511  109.99370412 109.99370412 109.9949511\n",
            " 109.99719807 109.99719807 109.9949511  109.99370412 109.99370412\n",
            " 109.9949511  109.99719807]\n",
            "Solución utilizando el método de Gauss-Seidel:\n",
            "[109.99721981 109.99648595 109.99692677 109.99784536 109.99878905\n",
            " 109.99952919 109.99805133 109.99753763 109.99784704 109.99849082\n",
            " 109.9991519  109.99967027]\n"
          ]
        }
      ]
    }
  ]
}